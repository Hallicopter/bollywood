{
 "cells": [
  {
   "cell_type": "code",
   "execution_count": 1,
   "metadata": {
    "collapsed": false,
    "deletable": true,
    "editable": true
   },
   "outputs": [],
   "source": [
    "import numpy as np\n",
    "import json\n",
    "import plotly.plotly as py\n",
    "from plotly.graph_objs import *\n",
    "import networkx as nx\n",
    "import itertools\n",
    "from pprint import pprint\n",
    "from matplotlib import pyplot as plt\n",
    "%matplotlib inline"
   ]
  },
  {
   "cell_type": "code",
   "execution_count": 2,
   "metadata": {
    "collapsed": false,
    "deletable": true,
    "editable": true
   },
   "outputs": [
    {
     "data": {
      "text/plain": [
       "{'director': 'Shiv Kumar',\n",
       " 'film_name': ['Raat Andheri Thi'],\n",
       " 'imdb_link': 'http://www.imdb.com/title/tt2145845/?ref_=adv_li_tt',\n",
       " 'lead_actors': ['Feroz Khan',\n",
       "  'Lolita Chatterjee',\n",
       "  'Sheikh Mukhtar',\n",
       "  'Mohan Choti'],\n",
       " 'release': '1967',\n",
       " 'runtime': 'N/A'}"
      ]
     },
     "execution_count": 2,
     "metadata": {},
     "output_type": "execute_result"
    }
   ],
   "source": [
    "data = json.load(open('/home/advait/Documents/Programming/itry/runtimes/betatest.json'))\n",
    "data[0]"
   ]
  },
  {
   "cell_type": "code",
   "execution_count": 3,
   "metadata": {
    "collapsed": false,
    "deletable": true,
    "editable": true
   },
   "outputs": [],
   "source": [
    "all_actors = []\n",
    "\n",
    "for datum in data:\n",
    "    for actor in datum['lead_actors']:\n",
    "        all_actors.append(actor)"
   ]
  },
  {
   "cell_type": "code",
   "execution_count": 4,
   "metadata": {
    "collapsed": false,
    "deletable": true,
    "editable": true
   },
   "outputs": [
    {
     "data": {
      "text/plain": [
       "34814"
      ]
     },
     "execution_count": 4,
     "metadata": {},
     "output_type": "execute_result"
    }
   ],
   "source": [
    "len(all_actors)\n",
    "# All actors (non unique)"
   ]
  },
  {
   "cell_type": "code",
   "execution_count": 5,
   "metadata": {
    "collapsed": false,
    "deletable": true,
    "editable": true
   },
   "outputs": [
    {
     "data": {
      "text/plain": [
       "7851"
      ]
     },
     "execution_count": 5,
     "metadata": {},
     "output_type": "execute_result"
    }
   ],
   "source": [
    "u_actors = set(all_actors)\n",
    "len(set(all_actors))\n",
    "# Number of non-unique actors"
   ]
  },
  {
   "cell_type": "code",
   "execution_count": 6,
   "metadata": {
    "collapsed": false,
    "deletable": true,
    "editable": true
   },
   "outputs": [],
   "source": [
    "edg_con = []\n",
    "\n",
    "for datum in data:\n",
    "    edg_con.append([list(itertools.combinations(datum['lead_actors'], 2)), datum['film_name'][0]])"
   ]
  },
  {
   "cell_type": "code",
   "execution_count": 7,
   "metadata": {
    "collapsed": false,
    "deletable": true,
    "editable": true
   },
   "outputs": [
    {
     "data": {
      "text/plain": [
       "[[[('Feroz Khan', 'Lolita Chatterjee'),\n",
       "   ('Feroz Khan', 'Sheikh Mukhtar'),\n",
       "   ('Feroz Khan', 'Mohan Choti'),\n",
       "   ('Lolita Chatterjee', 'Sheikh Mukhtar'),\n",
       "   ('Lolita Chatterjee', 'Mohan Choti'),\n",
       "   ('Sheikh Mukhtar', 'Mohan Choti')],\n",
       "  'Raat Andheri Thi'],\n",
       " [[('Pradeep Kumar', 'Tanuja'),\n",
       "   ('Pradeep Kumar', 'Nilofar'),\n",
       "   ('Pradeep Kumar', 'Nisar Ahmad Ansari'),\n",
       "   ('Tanuja', 'Nilofar'),\n",
       "   ('Tanuja', 'Nisar Ahmad Ansari'),\n",
       "   ('Nilofar', 'Nisar Ahmad Ansari')],\n",
       "  'Wahan Ke Log']]"
      ]
     },
     "execution_count": 7,
     "metadata": {},
     "output_type": "execute_result"
    }
   ],
   "source": [
    "edg_con[:2]"
   ]
  },
  {
   "cell_type": "code",
   "execution_count": 14,
   "metadata": {
    "collapsed": false,
    "deletable": true,
    "editable": true
   },
   "outputs": [],
   "source": [
    "# Generating a graph\n",
    "\n",
    "G = nx.Graph()\n",
    "\n",
    "G.add_nodes_from(u_actors)\n",
    "\n",
    "for edge in edg_con:\n",
    "    G.add_edges_from(edge[0], film=edge[1])"
   ]
  },
  {
   "cell_type": "code",
   "execution_count": 9,
   "metadata": {
    "collapsed": false,
    "deletable": true,
    "editable": true
   },
   "outputs": [],
   "source": [
    "nx.write_graphml(G, \"test.graphml\")"
   ]
  },
  {
   "cell_type": "code",
   "execution_count": 20,
   "metadata": {
    "collapsed": false,
    "deletable": true,
    "editable": true
   },
   "outputs": [],
   "source": [
    "path = (nx.shortest_path(G,source='Darsheel Safary',target='Anurag Kashyap'))"
   ]
  },
  {
   "cell_type": "code",
   "execution_count": 24,
   "metadata": {
    "collapsed": true,
    "deletable": true,
    "editable": true
   },
   "outputs": [],
   "source": [
    " def path_edge_attributes(path):\n",
    "    return [(u,v,G[u][v]['film']) for (u,v )in zip(path[0:],path[1:])]"
   ]
  },
  {
   "cell_type": "code",
   "execution_count": 25,
   "metadata": {
    "collapsed": false
   },
   "outputs": [
    {
     "data": {
      "text/plain": [
       "[('Darsheel Safary', 'Anupam Kher', 'Zokkomon'),\n",
       " ('Anupam Kher', 'Nana Patekar', 'Mohre'),\n",
       " ('Nana Patekar', 'Anurag Kashyap', 'Shagird')]"
      ]
     },
     "execution_count": 25,
     "metadata": {},
     "output_type": "execute_result"
    }
   ],
   "source": [
    "path_edge_attributes(path)"
   ]
  },
  {
   "cell_type": "code",
   "execution_count": null,
   "metadata": {
    "collapsed": true
   },
   "outputs": [],
   "source": []
  }
 ],
 "metadata": {
  "kernelspec": {
   "display_name": "Python 3",
   "language": "python",
   "name": "python3"
  },
  "language_info": {
   "codemirror_mode": {
    "name": "ipython",
    "version": 3
   },
   "file_extension": ".py",
   "mimetype": "text/x-python",
   "name": "python",
   "nbconvert_exporter": "python",
   "pygments_lexer": "ipython3",
   "version": "3.5.2"
  }
 },
 "nbformat": 4,
 "nbformat_minor": 2
}
